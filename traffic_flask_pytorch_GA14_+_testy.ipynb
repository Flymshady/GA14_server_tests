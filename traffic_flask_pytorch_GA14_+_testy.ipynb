{
  "nbformat": 4,
  "nbformat_minor": 0,
  "metadata": {
    "accelerator": "GPU",
    "colab": {
      "name": "traffic flask pytorch GA14 + testy",
      "provenance": [],
      "collapsed_sections": [],
      "toc_visible": true,
      "authorship_tag": "ABX9TyP/hvKrDyisOrRVzCatp06x",
      "include_colab_link": true
    },
    "kernelspec": {
      "display_name": "Python 3",
      "name": "python3"
    },
    "widgets": {
      "application/vnd.jupyter.widget-state+json": {
        "e5cc0520b98242c68dcdecefcfcb003e": {
          "model_module": "@jupyter-widgets/controls",
          "model_name": "HBoxModel",
          "state": {
            "_view_name": "HBoxView",
            "_dom_classes": [],
            "_model_name": "HBoxModel",
            "_view_module": "@jupyter-widgets/controls",
            "_model_module_version": "1.5.0",
            "_view_count": null,
            "_view_module_version": "1.5.0",
            "box_style": "",
            "layout": "IPY_MODEL_26bf9de892304cc0b86799f6bbee4a55",
            "_model_module": "@jupyter-widgets/controls",
            "children": [
              "IPY_MODEL_b0a5f5d8f6344e0ebb4a4fd6cf8af7ce",
              "IPY_MODEL_d162daca6de9475582c9c5301371d9e9"
            ]
          }
        },
        "26bf9de892304cc0b86799f6bbee4a55": {
          "model_module": "@jupyter-widgets/base",
          "model_name": "LayoutModel",
          "state": {
            "_view_name": "LayoutView",
            "grid_template_rows": null,
            "right": null,
            "justify_content": null,
            "_view_module": "@jupyter-widgets/base",
            "overflow": null,
            "_model_module_version": "1.2.0",
            "_view_count": null,
            "flex_flow": null,
            "width": null,
            "min_width": null,
            "border": null,
            "align_items": null,
            "bottom": null,
            "_model_module": "@jupyter-widgets/base",
            "top": null,
            "grid_column": null,
            "overflow_y": null,
            "overflow_x": null,
            "grid_auto_flow": null,
            "grid_area": null,
            "grid_template_columns": null,
            "flex": null,
            "_model_name": "LayoutModel",
            "justify_items": null,
            "grid_row": null,
            "max_height": null,
            "align_content": null,
            "visibility": null,
            "align_self": null,
            "height": null,
            "min_height": null,
            "padding": null,
            "grid_auto_rows": null,
            "grid_gap": null,
            "max_width": null,
            "order": null,
            "_view_module_version": "1.2.0",
            "grid_template_areas": null,
            "object_position": null,
            "object_fit": null,
            "grid_auto_columns": null,
            "margin": null,
            "display": null,
            "left": null
          }
        },
        "b0a5f5d8f6344e0ebb4a4fd6cf8af7ce": {
          "model_module": "@jupyter-widgets/controls",
          "model_name": "FloatProgressModel",
          "state": {
            "_view_name": "ProgressView",
            "style": "IPY_MODEL_6eb79f18122b4707b0a7a3f9384966fc",
            "_dom_classes": [],
            "description": "100%",
            "_model_name": "FloatProgressModel",
            "bar_style": "success",
            "max": 52147035,
            "_view_module": "@jupyter-widgets/controls",
            "_model_module_version": "1.5.0",
            "value": 52147035,
            "_view_count": null,
            "_view_module_version": "1.5.0",
            "orientation": "horizontal",
            "min": 0,
            "description_tooltip": null,
            "_model_module": "@jupyter-widgets/controls",
            "layout": "IPY_MODEL_b90acf7a105d483b90c891f0f9f30836"
          }
        },
        "d162daca6de9475582c9c5301371d9e9": {
          "model_module": "@jupyter-widgets/controls",
          "model_name": "HTMLModel",
          "state": {
            "_view_name": "HTMLView",
            "style": "IPY_MODEL_f6da1190382b4b8da8a7137275cabc79",
            "_dom_classes": [],
            "description": "",
            "_model_name": "HTMLModel",
            "placeholder": "​",
            "_view_module": "@jupyter-widgets/controls",
            "_model_module_version": "1.5.0",
            "value": " 49.7M/49.7M [00:00&lt;00:00, 190MB/s]",
            "_view_count": null,
            "_view_module_version": "1.5.0",
            "description_tooltip": null,
            "_model_module": "@jupyter-widgets/controls",
            "layout": "IPY_MODEL_814d761d4eee495e83fb2e3917d0618d"
          }
        },
        "6eb79f18122b4707b0a7a3f9384966fc": {
          "model_module": "@jupyter-widgets/controls",
          "model_name": "ProgressStyleModel",
          "state": {
            "_view_name": "StyleView",
            "_model_name": "ProgressStyleModel",
            "description_width": "initial",
            "_view_module": "@jupyter-widgets/base",
            "_model_module_version": "1.5.0",
            "_view_count": null,
            "_view_module_version": "1.2.0",
            "bar_color": null,
            "_model_module": "@jupyter-widgets/controls"
          }
        },
        "b90acf7a105d483b90c891f0f9f30836": {
          "model_module": "@jupyter-widgets/base",
          "model_name": "LayoutModel",
          "state": {
            "_view_name": "LayoutView",
            "grid_template_rows": null,
            "right": null,
            "justify_content": null,
            "_view_module": "@jupyter-widgets/base",
            "overflow": null,
            "_model_module_version": "1.2.0",
            "_view_count": null,
            "flex_flow": null,
            "width": null,
            "min_width": null,
            "border": null,
            "align_items": null,
            "bottom": null,
            "_model_module": "@jupyter-widgets/base",
            "top": null,
            "grid_column": null,
            "overflow_y": null,
            "overflow_x": null,
            "grid_auto_flow": null,
            "grid_area": null,
            "grid_template_columns": null,
            "flex": null,
            "_model_name": "LayoutModel",
            "justify_items": null,
            "grid_row": null,
            "max_height": null,
            "align_content": null,
            "visibility": null,
            "align_self": null,
            "height": null,
            "min_height": null,
            "padding": null,
            "grid_auto_rows": null,
            "grid_gap": null,
            "max_width": null,
            "order": null,
            "_view_module_version": "1.2.0",
            "grid_template_areas": null,
            "object_position": null,
            "object_fit": null,
            "grid_auto_columns": null,
            "margin": null,
            "display": null,
            "left": null
          }
        },
        "f6da1190382b4b8da8a7137275cabc79": {
          "model_module": "@jupyter-widgets/controls",
          "model_name": "DescriptionStyleModel",
          "state": {
            "_view_name": "StyleView",
            "_model_name": "DescriptionStyleModel",
            "description_width": "",
            "_view_module": "@jupyter-widgets/base",
            "_model_module_version": "1.5.0",
            "_view_count": null,
            "_view_module_version": "1.2.0",
            "_model_module": "@jupyter-widgets/controls"
          }
        },
        "814d761d4eee495e83fb2e3917d0618d": {
          "model_module": "@jupyter-widgets/base",
          "model_name": "LayoutModel",
          "state": {
            "_view_name": "LayoutView",
            "grid_template_rows": null,
            "right": null,
            "justify_content": null,
            "_view_module": "@jupyter-widgets/base",
            "overflow": null,
            "_model_module_version": "1.2.0",
            "_view_count": null,
            "flex_flow": null,
            "width": null,
            "min_width": null,
            "border": null,
            "align_items": null,
            "bottom": null,
            "_model_module": "@jupyter-widgets/base",
            "top": null,
            "grid_column": null,
            "overflow_y": null,
            "overflow_x": null,
            "grid_auto_flow": null,
            "grid_area": null,
            "grid_template_columns": null,
            "flex": null,
            "_model_name": "LayoutModel",
            "justify_items": null,
            "grid_row": null,
            "max_height": null,
            "align_content": null,
            "visibility": null,
            "align_self": null,
            "height": null,
            "min_height": null,
            "padding": null,
            "grid_auto_rows": null,
            "grid_gap": null,
            "max_width": null,
            "order": null,
            "_view_module_version": "1.2.0",
            "grid_template_areas": null,
            "object_position": null,
            "object_fit": null,
            "grid_auto_columns": null,
            "margin": null,
            "display": null,
            "left": null
          }
        }
      }
    }
  },
  "cells": [
    {
      "cell_type": "markdown",
      "metadata": {
        "id": "view-in-github",
        "colab_type": "text"
      },
      "source": [
        "<a href=\"https://colab.research.google.com/github/Flymshady/GA14_server_tests/blob/main/traffic_flask_pytorch_GA14_%2B_testy.ipynb\" target=\"_parent\"><img src=\"https://colab.research.google.com/assets/colab-badge.svg\" alt=\"Open In Colab\"/></a>"
      ]
    },
    {
      "cell_type": "markdown",
      "metadata": {
        "id": "UdvRUEKRu26F"
      },
      "source": [
        "## Instalace & importy\n"
      ]
    },
    {
      "cell_type": "code",
      "metadata": {
        "colab": {
          "base_uri": "https://localhost:8080/"
        },
        "id": "dJ9eazdkVvTi",
        "outputId": "596e1b03-899f-4c21-c802-4cf98353c2cc"
      },
      "source": [
        "! pip install -q pytorch-lightning\n",
        "! pip install -q pytorch-lightning-bolts\n",
        "!pip install flask-ngrok"
      ],
      "execution_count": 1,
      "outputs": [
        {
          "output_type": "stream",
          "text": [
            "Requirement already satisfied: flask-ngrok in /usr/local/lib/python3.6/dist-packages (0.0.25)\n",
            "Requirement already satisfied: Flask>=0.8 in /usr/local/lib/python3.6/dist-packages (from flask-ngrok) (1.1.2)\n",
            "Requirement already satisfied: requests in /usr/local/lib/python3.6/dist-packages (from flask-ngrok) (2.23.0)\n",
            "Requirement already satisfied: Jinja2>=2.10.1 in /usr/local/lib/python3.6/dist-packages (from Flask>=0.8->flask-ngrok) (2.11.2)\n",
            "Requirement already satisfied: itsdangerous>=0.24 in /usr/local/lib/python3.6/dist-packages (from Flask>=0.8->flask-ngrok) (1.1.0)\n",
            "Requirement already satisfied: click>=5.1 in /usr/local/lib/python3.6/dist-packages (from Flask>=0.8->flask-ngrok) (7.1.2)\n",
            "Requirement already satisfied: Werkzeug>=0.15 in /usr/local/lib/python3.6/dist-packages (from Flask>=0.8->flask-ngrok) (1.0.1)\n",
            "Requirement already satisfied: chardet<4,>=3.0.2 in /usr/local/lib/python3.6/dist-packages (from requests->flask-ngrok) (3.0.4)\n",
            "Requirement already satisfied: idna<3,>=2.5 in /usr/local/lib/python3.6/dist-packages (from requests->flask-ngrok) (2.10)\n",
            "Requirement already satisfied: certifi>=2017.4.17 in /usr/local/lib/python3.6/dist-packages (from requests->flask-ngrok) (2020.12.5)\n",
            "Requirement already satisfied: urllib3!=1.25.0,!=1.25.1,<1.26,>=1.21.1 in /usr/local/lib/python3.6/dist-packages (from requests->flask-ngrok) (1.24.3)\n",
            "Requirement already satisfied: MarkupSafe>=0.23 in /usr/local/lib/python3.6/dist-packages (from Jinja2>=2.10.1->Flask>=0.8->flask-ngrok) (1.1.1)\n"
          ],
          "name": "stdout"
        }
      ]
    },
    {
      "cell_type": "code",
      "metadata": {
        "id": "uda9Z64pWAs7"
      },
      "source": [
        "import os\n",
        "import torch\n",
        "from torch import nn\n",
        "from torch.nn import functional as F\n",
        "from torch.utils.data import DataLoader, random_split\n",
        "from torchvision import transforms, datasets\n",
        "import pytorch_lightning as pl\n",
        "from pytorch_lightning.metrics.functional import accuracy\n",
        "import torchvision\n",
        "import numpy as np\n",
        "import matplotlib.pyplot as plt"
      ],
      "execution_count": 2,
      "outputs": []
    },
    {
      "cell_type": "markdown",
      "metadata": {
        "id": "BxduZBkDvGcC"
      },
      "source": [
        "## Model\n"
      ]
    },
    {
      "cell_type": "code",
      "metadata": {
        "id": "k1zp3GnsWRT_"
      },
      "source": [
        "!pip install -U -q PyDrive\n",
        "from pydrive.auth import GoogleAuth\n",
        "from pydrive.drive import GoogleDrive\n",
        "from google.colab import auth\n",
        "from oauth2client.client import GoogleCredentials"
      ],
      "execution_count": 3,
      "outputs": []
    },
    {
      "cell_type": "code",
      "metadata": {
        "id": "QqXG1nSRWUoB"
      },
      "source": [
        "auth.authenticate_user()\n",
        "gauth = GoogleAuth()\n",
        "gauth.credentials = GoogleCredentials.get_application_default()\n",
        "drive = GoogleDrive(gauth)"
      ],
      "execution_count": 6,
      "outputs": []
    },
    {
      "cell_type": "code",
      "metadata": {
        "id": "CX7S4GlHWc_5"
      },
      "source": [
        "fid = drive.ListFile({'q':\"title='entire_model_GA14_2.pt'\"}).GetList()[0]['id']\n",
        "f = drive.CreateFile({'id': fid})\n",
        "f.GetContentFile('entire_model_GA14_2.pt')"
      ],
      "execution_count": 7,
      "outputs": []
    },
    {
      "cell_type": "code",
      "metadata": {
        "id": "7PnyXq5bWfdT"
      },
      "source": [
        "class_names = ['error', 'no_traffic', 'traffic']"
      ],
      "execution_count": 8,
      "outputs": []
    },
    {
      "cell_type": "code",
      "metadata": {
        "id": "GBV7VcGAWidG",
        "colab": {
          "base_uri": "https://localhost:8080/",
          "height": 83,
          "referenced_widgets": [
            "e5cc0520b98242c68dcdecefcfcb003e",
            "26bf9de892304cc0b86799f6bbee4a55",
            "b0a5f5d8f6344e0ebb4a4fd6cf8af7ce",
            "d162daca6de9475582c9c5301371d9e9",
            "6eb79f18122b4707b0a7a3f9384966fc",
            "b90acf7a105d483b90c891f0f9f30836",
            "f6da1190382b4b8da8a7137275cabc79",
            "814d761d4eee495e83fb2e3917d0618d"
          ]
        },
        "outputId": "6f0d3324-8d95-457d-c45b-14e56e3553e4"
      },
      "source": [
        "class TrafficModel(pl.LightningModule):\n",
        "\n",
        "    def __init__(self, num_target_classes):\n",
        "        super().__init__()\n",
        "        self.model = torchvision.models.googlenet(pretrained=True) #vyuziti preneseneho uceni z modelu resnet50\n",
        "        num_ftrs = self.model.fc.in_features\n",
        "        self.model.fc = nn.Linear(num_ftrs, num_target_classes)\n",
        "        self.acc = pl.metrics.Accuracy()\n",
        "\n",
        "    def forward(self, x):\n",
        "      return self.model(x)\n",
        "\n",
        "    def training_step(self, batch, batch_idx):  \n",
        "       \n",
        "       x, y = batch #rozdeleni batche na jeho dva prvky - vstup a cile(labely)\n",
        "\n",
        "       y_hat = self(x)  #output modelu\n",
        "\n",
        "       loss = F.cross_entropy(y_hat, y) #vypocet chyby - ztratova funkce cross_entropy\n",
        "       self.log('train_loss', loss)   #ulozeni ztraty do logu\n",
        "       self.log('train_acc_step', self.acc(y_hat, y), on_step=True, on_epoch=False)  #y_hat - predikovana, y - co melo byt predikovanp -> vypocet kolik % z toho bylo spravne\n",
        "       return loss\n",
        "\n",
        "    def training_epoch_end(self, outs):\n",
        "      acc = self.acc.compute()\n",
        "      self.log(\"train_acc_epoch\", acc)\n",
        "\n",
        "    def validation_step(self, batch, batch_idx):\n",
        "\n",
        "        x, y = batch\n",
        "        y_hat = self(x)  #output modelu\n",
        "        loss = F.cross_entropy(y_hat, y) #vypocet chyby - ztratova funkce cross_entropy\n",
        "        self.log('val_loss', loss)\n",
        "  \n",
        "    def configure_optimizers(self):\n",
        "        optimizer = torch.optim.Adam(self.parameters(), lr=1e-3)\n",
        "        return optimizer\n",
        "\n",
        "model = TrafficModel(len(class_names))"
      ],
      "execution_count": 9,
      "outputs": [
        {
          "output_type": "stream",
          "text": [
            "Downloading: \"https://download.pytorch.org/models/googlenet-1378be20.pth\" to /root/.cache/torch/hub/checkpoints/googlenet-1378be20.pth\n"
          ],
          "name": "stderr"
        },
        {
          "output_type": "display_data",
          "data": {
            "application/vnd.jupyter.widget-view+json": {
              "model_id": "e5cc0520b98242c68dcdecefcfcb003e",
              "version_minor": 0,
              "version_major": 2
            },
            "text/plain": [
              "HBox(children=(FloatProgress(value=0.0, max=52147035.0), HTML(value='')))"
            ]
          },
          "metadata": {
            "tags": []
          }
        },
        {
          "output_type": "stream",
          "text": [
            "\n"
          ],
          "name": "stdout"
        }
      ]
    },
    {
      "cell_type": "code",
      "metadata": {
        "colab": {
          "base_uri": "https://localhost:8080/"
        },
        "id": "JHAaQnFdWk96",
        "outputId": "e996599f-446c-4347-90da-80d163b34d6f"
      },
      "source": [
        "model = torch.load('entire_model_GA14_2.pt')\n",
        "model.eval()"
      ],
      "execution_count": 10,
      "outputs": [
        {
          "output_type": "execute_result",
          "data": {
            "text/plain": [
              "TrafficModel(\n",
              "  (model): GoogLeNet(\n",
              "    (conv1): BasicConv2d(\n",
              "      (conv): Conv2d(3, 64, kernel_size=(7, 7), stride=(2, 2), padding=(3, 3), bias=False)\n",
              "      (bn): BatchNorm2d(64, eps=0.001, momentum=0.1, affine=True, track_running_stats=True)\n",
              "    )\n",
              "    (maxpool1): MaxPool2d(kernel_size=3, stride=2, padding=0, dilation=1, ceil_mode=True)\n",
              "    (conv2): BasicConv2d(\n",
              "      (conv): Conv2d(64, 64, kernel_size=(1, 1), stride=(1, 1), bias=False)\n",
              "      (bn): BatchNorm2d(64, eps=0.001, momentum=0.1, affine=True, track_running_stats=True)\n",
              "    )\n",
              "    (conv3): BasicConv2d(\n",
              "      (conv): Conv2d(64, 192, kernel_size=(3, 3), stride=(1, 1), padding=(1, 1), bias=False)\n",
              "      (bn): BatchNorm2d(192, eps=0.001, momentum=0.1, affine=True, track_running_stats=True)\n",
              "    )\n",
              "    (maxpool2): MaxPool2d(kernel_size=3, stride=2, padding=0, dilation=1, ceil_mode=True)\n",
              "    (inception3a): Inception(\n",
              "      (branch1): BasicConv2d(\n",
              "        (conv): Conv2d(192, 64, kernel_size=(1, 1), stride=(1, 1), bias=False)\n",
              "        (bn): BatchNorm2d(64, eps=0.001, momentum=0.1, affine=True, track_running_stats=True)\n",
              "      )\n",
              "      (branch2): Sequential(\n",
              "        (0): BasicConv2d(\n",
              "          (conv): Conv2d(192, 96, kernel_size=(1, 1), stride=(1, 1), bias=False)\n",
              "          (bn): BatchNorm2d(96, eps=0.001, momentum=0.1, affine=True, track_running_stats=True)\n",
              "        )\n",
              "        (1): BasicConv2d(\n",
              "          (conv): Conv2d(96, 128, kernel_size=(3, 3), stride=(1, 1), padding=(1, 1), bias=False)\n",
              "          (bn): BatchNorm2d(128, eps=0.001, momentum=0.1, affine=True, track_running_stats=True)\n",
              "        )\n",
              "      )\n",
              "      (branch3): Sequential(\n",
              "        (0): BasicConv2d(\n",
              "          (conv): Conv2d(192, 16, kernel_size=(1, 1), stride=(1, 1), bias=False)\n",
              "          (bn): BatchNorm2d(16, eps=0.001, momentum=0.1, affine=True, track_running_stats=True)\n",
              "        )\n",
              "        (1): BasicConv2d(\n",
              "          (conv): Conv2d(16, 32, kernel_size=(3, 3), stride=(1, 1), padding=(1, 1), bias=False)\n",
              "          (bn): BatchNorm2d(32, eps=0.001, momentum=0.1, affine=True, track_running_stats=True)\n",
              "        )\n",
              "      )\n",
              "      (branch4): Sequential(\n",
              "        (0): MaxPool2d(kernel_size=3, stride=1, padding=1, dilation=1, ceil_mode=True)\n",
              "        (1): BasicConv2d(\n",
              "          (conv): Conv2d(192, 32, kernel_size=(1, 1), stride=(1, 1), bias=False)\n",
              "          (bn): BatchNorm2d(32, eps=0.001, momentum=0.1, affine=True, track_running_stats=True)\n",
              "        )\n",
              "      )\n",
              "    )\n",
              "    (inception3b): Inception(\n",
              "      (branch1): BasicConv2d(\n",
              "        (conv): Conv2d(256, 128, kernel_size=(1, 1), stride=(1, 1), bias=False)\n",
              "        (bn): BatchNorm2d(128, eps=0.001, momentum=0.1, affine=True, track_running_stats=True)\n",
              "      )\n",
              "      (branch2): Sequential(\n",
              "        (0): BasicConv2d(\n",
              "          (conv): Conv2d(256, 128, kernel_size=(1, 1), stride=(1, 1), bias=False)\n",
              "          (bn): BatchNorm2d(128, eps=0.001, momentum=0.1, affine=True, track_running_stats=True)\n",
              "        )\n",
              "        (1): BasicConv2d(\n",
              "          (conv): Conv2d(128, 192, kernel_size=(3, 3), stride=(1, 1), padding=(1, 1), bias=False)\n",
              "          (bn): BatchNorm2d(192, eps=0.001, momentum=0.1, affine=True, track_running_stats=True)\n",
              "        )\n",
              "      )\n",
              "      (branch3): Sequential(\n",
              "        (0): BasicConv2d(\n",
              "          (conv): Conv2d(256, 32, kernel_size=(1, 1), stride=(1, 1), bias=False)\n",
              "          (bn): BatchNorm2d(32, eps=0.001, momentum=0.1, affine=True, track_running_stats=True)\n",
              "        )\n",
              "        (1): BasicConv2d(\n",
              "          (conv): Conv2d(32, 96, kernel_size=(3, 3), stride=(1, 1), padding=(1, 1), bias=False)\n",
              "          (bn): BatchNorm2d(96, eps=0.001, momentum=0.1, affine=True, track_running_stats=True)\n",
              "        )\n",
              "      )\n",
              "      (branch4): Sequential(\n",
              "        (0): MaxPool2d(kernel_size=3, stride=1, padding=1, dilation=1, ceil_mode=True)\n",
              "        (1): BasicConv2d(\n",
              "          (conv): Conv2d(256, 64, kernel_size=(1, 1), stride=(1, 1), bias=False)\n",
              "          (bn): BatchNorm2d(64, eps=0.001, momentum=0.1, affine=True, track_running_stats=True)\n",
              "        )\n",
              "      )\n",
              "    )\n",
              "    (maxpool3): MaxPool2d(kernel_size=3, stride=2, padding=0, dilation=1, ceil_mode=True)\n",
              "    (inception4a): Inception(\n",
              "      (branch1): BasicConv2d(\n",
              "        (conv): Conv2d(480, 192, kernel_size=(1, 1), stride=(1, 1), bias=False)\n",
              "        (bn): BatchNorm2d(192, eps=0.001, momentum=0.1, affine=True, track_running_stats=True)\n",
              "      )\n",
              "      (branch2): Sequential(\n",
              "        (0): BasicConv2d(\n",
              "          (conv): Conv2d(480, 96, kernel_size=(1, 1), stride=(1, 1), bias=False)\n",
              "          (bn): BatchNorm2d(96, eps=0.001, momentum=0.1, affine=True, track_running_stats=True)\n",
              "        )\n",
              "        (1): BasicConv2d(\n",
              "          (conv): Conv2d(96, 208, kernel_size=(3, 3), stride=(1, 1), padding=(1, 1), bias=False)\n",
              "          (bn): BatchNorm2d(208, eps=0.001, momentum=0.1, affine=True, track_running_stats=True)\n",
              "        )\n",
              "      )\n",
              "      (branch3): Sequential(\n",
              "        (0): BasicConv2d(\n",
              "          (conv): Conv2d(480, 16, kernel_size=(1, 1), stride=(1, 1), bias=False)\n",
              "          (bn): BatchNorm2d(16, eps=0.001, momentum=0.1, affine=True, track_running_stats=True)\n",
              "        )\n",
              "        (1): BasicConv2d(\n",
              "          (conv): Conv2d(16, 48, kernel_size=(3, 3), stride=(1, 1), padding=(1, 1), bias=False)\n",
              "          (bn): BatchNorm2d(48, eps=0.001, momentum=0.1, affine=True, track_running_stats=True)\n",
              "        )\n",
              "      )\n",
              "      (branch4): Sequential(\n",
              "        (0): MaxPool2d(kernel_size=3, stride=1, padding=1, dilation=1, ceil_mode=True)\n",
              "        (1): BasicConv2d(\n",
              "          (conv): Conv2d(480, 64, kernel_size=(1, 1), stride=(1, 1), bias=False)\n",
              "          (bn): BatchNorm2d(64, eps=0.001, momentum=0.1, affine=True, track_running_stats=True)\n",
              "        )\n",
              "      )\n",
              "    )\n",
              "    (inception4b): Inception(\n",
              "      (branch1): BasicConv2d(\n",
              "        (conv): Conv2d(512, 160, kernel_size=(1, 1), stride=(1, 1), bias=False)\n",
              "        (bn): BatchNorm2d(160, eps=0.001, momentum=0.1, affine=True, track_running_stats=True)\n",
              "      )\n",
              "      (branch2): Sequential(\n",
              "        (0): BasicConv2d(\n",
              "          (conv): Conv2d(512, 112, kernel_size=(1, 1), stride=(1, 1), bias=False)\n",
              "          (bn): BatchNorm2d(112, eps=0.001, momentum=0.1, affine=True, track_running_stats=True)\n",
              "        )\n",
              "        (1): BasicConv2d(\n",
              "          (conv): Conv2d(112, 224, kernel_size=(3, 3), stride=(1, 1), padding=(1, 1), bias=False)\n",
              "          (bn): BatchNorm2d(224, eps=0.001, momentum=0.1, affine=True, track_running_stats=True)\n",
              "        )\n",
              "      )\n",
              "      (branch3): Sequential(\n",
              "        (0): BasicConv2d(\n",
              "          (conv): Conv2d(512, 24, kernel_size=(1, 1), stride=(1, 1), bias=False)\n",
              "          (bn): BatchNorm2d(24, eps=0.001, momentum=0.1, affine=True, track_running_stats=True)\n",
              "        )\n",
              "        (1): BasicConv2d(\n",
              "          (conv): Conv2d(24, 64, kernel_size=(3, 3), stride=(1, 1), padding=(1, 1), bias=False)\n",
              "          (bn): BatchNorm2d(64, eps=0.001, momentum=0.1, affine=True, track_running_stats=True)\n",
              "        )\n",
              "      )\n",
              "      (branch4): Sequential(\n",
              "        (0): MaxPool2d(kernel_size=3, stride=1, padding=1, dilation=1, ceil_mode=True)\n",
              "        (1): BasicConv2d(\n",
              "          (conv): Conv2d(512, 64, kernel_size=(1, 1), stride=(1, 1), bias=False)\n",
              "          (bn): BatchNorm2d(64, eps=0.001, momentum=0.1, affine=True, track_running_stats=True)\n",
              "        )\n",
              "      )\n",
              "    )\n",
              "    (inception4c): Inception(\n",
              "      (branch1): BasicConv2d(\n",
              "        (conv): Conv2d(512, 128, kernel_size=(1, 1), stride=(1, 1), bias=False)\n",
              "        (bn): BatchNorm2d(128, eps=0.001, momentum=0.1, affine=True, track_running_stats=True)\n",
              "      )\n",
              "      (branch2): Sequential(\n",
              "        (0): BasicConv2d(\n",
              "          (conv): Conv2d(512, 128, kernel_size=(1, 1), stride=(1, 1), bias=False)\n",
              "          (bn): BatchNorm2d(128, eps=0.001, momentum=0.1, affine=True, track_running_stats=True)\n",
              "        )\n",
              "        (1): BasicConv2d(\n",
              "          (conv): Conv2d(128, 256, kernel_size=(3, 3), stride=(1, 1), padding=(1, 1), bias=False)\n",
              "          (bn): BatchNorm2d(256, eps=0.001, momentum=0.1, affine=True, track_running_stats=True)\n",
              "        )\n",
              "      )\n",
              "      (branch3): Sequential(\n",
              "        (0): BasicConv2d(\n",
              "          (conv): Conv2d(512, 24, kernel_size=(1, 1), stride=(1, 1), bias=False)\n",
              "          (bn): BatchNorm2d(24, eps=0.001, momentum=0.1, affine=True, track_running_stats=True)\n",
              "        )\n",
              "        (1): BasicConv2d(\n",
              "          (conv): Conv2d(24, 64, kernel_size=(3, 3), stride=(1, 1), padding=(1, 1), bias=False)\n",
              "          (bn): BatchNorm2d(64, eps=0.001, momentum=0.1, affine=True, track_running_stats=True)\n",
              "        )\n",
              "      )\n",
              "      (branch4): Sequential(\n",
              "        (0): MaxPool2d(kernel_size=3, stride=1, padding=1, dilation=1, ceil_mode=True)\n",
              "        (1): BasicConv2d(\n",
              "          (conv): Conv2d(512, 64, kernel_size=(1, 1), stride=(1, 1), bias=False)\n",
              "          (bn): BatchNorm2d(64, eps=0.001, momentum=0.1, affine=True, track_running_stats=True)\n",
              "        )\n",
              "      )\n",
              "    )\n",
              "    (inception4d): Inception(\n",
              "      (branch1): BasicConv2d(\n",
              "        (conv): Conv2d(512, 112, kernel_size=(1, 1), stride=(1, 1), bias=False)\n",
              "        (bn): BatchNorm2d(112, eps=0.001, momentum=0.1, affine=True, track_running_stats=True)\n",
              "      )\n",
              "      (branch2): Sequential(\n",
              "        (0): BasicConv2d(\n",
              "          (conv): Conv2d(512, 144, kernel_size=(1, 1), stride=(1, 1), bias=False)\n",
              "          (bn): BatchNorm2d(144, eps=0.001, momentum=0.1, affine=True, track_running_stats=True)\n",
              "        )\n",
              "        (1): BasicConv2d(\n",
              "          (conv): Conv2d(144, 288, kernel_size=(3, 3), stride=(1, 1), padding=(1, 1), bias=False)\n",
              "          (bn): BatchNorm2d(288, eps=0.001, momentum=0.1, affine=True, track_running_stats=True)\n",
              "        )\n",
              "      )\n",
              "      (branch3): Sequential(\n",
              "        (0): BasicConv2d(\n",
              "          (conv): Conv2d(512, 32, kernel_size=(1, 1), stride=(1, 1), bias=False)\n",
              "          (bn): BatchNorm2d(32, eps=0.001, momentum=0.1, affine=True, track_running_stats=True)\n",
              "        )\n",
              "        (1): BasicConv2d(\n",
              "          (conv): Conv2d(32, 64, kernel_size=(3, 3), stride=(1, 1), padding=(1, 1), bias=False)\n",
              "          (bn): BatchNorm2d(64, eps=0.001, momentum=0.1, affine=True, track_running_stats=True)\n",
              "        )\n",
              "      )\n",
              "      (branch4): Sequential(\n",
              "        (0): MaxPool2d(kernel_size=3, stride=1, padding=1, dilation=1, ceil_mode=True)\n",
              "        (1): BasicConv2d(\n",
              "          (conv): Conv2d(512, 64, kernel_size=(1, 1), stride=(1, 1), bias=False)\n",
              "          (bn): BatchNorm2d(64, eps=0.001, momentum=0.1, affine=True, track_running_stats=True)\n",
              "        )\n",
              "      )\n",
              "    )\n",
              "    (inception4e): Inception(\n",
              "      (branch1): BasicConv2d(\n",
              "        (conv): Conv2d(528, 256, kernel_size=(1, 1), stride=(1, 1), bias=False)\n",
              "        (bn): BatchNorm2d(256, eps=0.001, momentum=0.1, affine=True, track_running_stats=True)\n",
              "      )\n",
              "      (branch2): Sequential(\n",
              "        (0): BasicConv2d(\n",
              "          (conv): Conv2d(528, 160, kernel_size=(1, 1), stride=(1, 1), bias=False)\n",
              "          (bn): BatchNorm2d(160, eps=0.001, momentum=0.1, affine=True, track_running_stats=True)\n",
              "        )\n",
              "        (1): BasicConv2d(\n",
              "          (conv): Conv2d(160, 320, kernel_size=(3, 3), stride=(1, 1), padding=(1, 1), bias=False)\n",
              "          (bn): BatchNorm2d(320, eps=0.001, momentum=0.1, affine=True, track_running_stats=True)\n",
              "        )\n",
              "      )\n",
              "      (branch3): Sequential(\n",
              "        (0): BasicConv2d(\n",
              "          (conv): Conv2d(528, 32, kernel_size=(1, 1), stride=(1, 1), bias=False)\n",
              "          (bn): BatchNorm2d(32, eps=0.001, momentum=0.1, affine=True, track_running_stats=True)\n",
              "        )\n",
              "        (1): BasicConv2d(\n",
              "          (conv): Conv2d(32, 128, kernel_size=(3, 3), stride=(1, 1), padding=(1, 1), bias=False)\n",
              "          (bn): BatchNorm2d(128, eps=0.001, momentum=0.1, affine=True, track_running_stats=True)\n",
              "        )\n",
              "      )\n",
              "      (branch4): Sequential(\n",
              "        (0): MaxPool2d(kernel_size=3, stride=1, padding=1, dilation=1, ceil_mode=True)\n",
              "        (1): BasicConv2d(\n",
              "          (conv): Conv2d(528, 128, kernel_size=(1, 1), stride=(1, 1), bias=False)\n",
              "          (bn): BatchNorm2d(128, eps=0.001, momentum=0.1, affine=True, track_running_stats=True)\n",
              "        )\n",
              "      )\n",
              "    )\n",
              "    (maxpool4): MaxPool2d(kernel_size=2, stride=2, padding=0, dilation=1, ceil_mode=True)\n",
              "    (inception5a): Inception(\n",
              "      (branch1): BasicConv2d(\n",
              "        (conv): Conv2d(832, 256, kernel_size=(1, 1), stride=(1, 1), bias=False)\n",
              "        (bn): BatchNorm2d(256, eps=0.001, momentum=0.1, affine=True, track_running_stats=True)\n",
              "      )\n",
              "      (branch2): Sequential(\n",
              "        (0): BasicConv2d(\n",
              "          (conv): Conv2d(832, 160, kernel_size=(1, 1), stride=(1, 1), bias=False)\n",
              "          (bn): BatchNorm2d(160, eps=0.001, momentum=0.1, affine=True, track_running_stats=True)\n",
              "        )\n",
              "        (1): BasicConv2d(\n",
              "          (conv): Conv2d(160, 320, kernel_size=(3, 3), stride=(1, 1), padding=(1, 1), bias=False)\n",
              "          (bn): BatchNorm2d(320, eps=0.001, momentum=0.1, affine=True, track_running_stats=True)\n",
              "        )\n",
              "      )\n",
              "      (branch3): Sequential(\n",
              "        (0): BasicConv2d(\n",
              "          (conv): Conv2d(832, 32, kernel_size=(1, 1), stride=(1, 1), bias=False)\n",
              "          (bn): BatchNorm2d(32, eps=0.001, momentum=0.1, affine=True, track_running_stats=True)\n",
              "        )\n",
              "        (1): BasicConv2d(\n",
              "          (conv): Conv2d(32, 128, kernel_size=(3, 3), stride=(1, 1), padding=(1, 1), bias=False)\n",
              "          (bn): BatchNorm2d(128, eps=0.001, momentum=0.1, affine=True, track_running_stats=True)\n",
              "        )\n",
              "      )\n",
              "      (branch4): Sequential(\n",
              "        (0): MaxPool2d(kernel_size=3, stride=1, padding=1, dilation=1, ceil_mode=True)\n",
              "        (1): BasicConv2d(\n",
              "          (conv): Conv2d(832, 128, kernel_size=(1, 1), stride=(1, 1), bias=False)\n",
              "          (bn): BatchNorm2d(128, eps=0.001, momentum=0.1, affine=True, track_running_stats=True)\n",
              "        )\n",
              "      )\n",
              "    )\n",
              "    (inception5b): Inception(\n",
              "      (branch1): BasicConv2d(\n",
              "        (conv): Conv2d(832, 384, kernel_size=(1, 1), stride=(1, 1), bias=False)\n",
              "        (bn): BatchNorm2d(384, eps=0.001, momentum=0.1, affine=True, track_running_stats=True)\n",
              "      )\n",
              "      (branch2): Sequential(\n",
              "        (0): BasicConv2d(\n",
              "          (conv): Conv2d(832, 192, kernel_size=(1, 1), stride=(1, 1), bias=False)\n",
              "          (bn): BatchNorm2d(192, eps=0.001, momentum=0.1, affine=True, track_running_stats=True)\n",
              "        )\n",
              "        (1): BasicConv2d(\n",
              "          (conv): Conv2d(192, 384, kernel_size=(3, 3), stride=(1, 1), padding=(1, 1), bias=False)\n",
              "          (bn): BatchNorm2d(384, eps=0.001, momentum=0.1, affine=True, track_running_stats=True)\n",
              "        )\n",
              "      )\n",
              "      (branch3): Sequential(\n",
              "        (0): BasicConv2d(\n",
              "          (conv): Conv2d(832, 48, kernel_size=(1, 1), stride=(1, 1), bias=False)\n",
              "          (bn): BatchNorm2d(48, eps=0.001, momentum=0.1, affine=True, track_running_stats=True)\n",
              "        )\n",
              "        (1): BasicConv2d(\n",
              "          (conv): Conv2d(48, 128, kernel_size=(3, 3), stride=(1, 1), padding=(1, 1), bias=False)\n",
              "          (bn): BatchNorm2d(128, eps=0.001, momentum=0.1, affine=True, track_running_stats=True)\n",
              "        )\n",
              "      )\n",
              "      (branch4): Sequential(\n",
              "        (0): MaxPool2d(kernel_size=3, stride=1, padding=1, dilation=1, ceil_mode=True)\n",
              "        (1): BasicConv2d(\n",
              "          (conv): Conv2d(832, 128, kernel_size=(1, 1), stride=(1, 1), bias=False)\n",
              "          (bn): BatchNorm2d(128, eps=0.001, momentum=0.1, affine=True, track_running_stats=True)\n",
              "        )\n",
              "      )\n",
              "    )\n",
              "    (aux1): None\n",
              "    (aux2): None\n",
              "    (avgpool): AdaptiveAvgPool2d(output_size=(1, 1))\n",
              "    (dropout): Dropout(p=0.2, inplace=False)\n",
              "    (fc): Linear(in_features=1024, out_features=3, bias=True)\n",
              "  )\n",
              "  (acc): Accuracy()\n",
              ")"
            ]
          },
          "metadata": {
            "tags": []
          },
          "execution_count": 10
        }
      ]
    },
    {
      "cell_type": "markdown",
      "metadata": {
        "id": "t7fjteZ_vNP9"
      },
      "source": [
        "## Příprava & zpracování obrázku\n"
      ]
    },
    {
      "cell_type": "code",
      "metadata": {
        "colab": {
          "base_uri": "https://localhost:8080/"
        },
        "id": "NaiMuTr-XD3f",
        "outputId": "c0ffb42b-af78-4c26-fb7a-dec325dc73ad"
      },
      "source": [
        "import os\n",
        "\n",
        "# define the name of the directory to be created\n",
        "os.chdir('/content/')\n",
        "path = \"/content/actuall\"\n",
        "\n",
        "try:\n",
        "    os.mkdir(path)\n",
        "except OSError:\n",
        "    print (\"Creation of the directory %s failed\" % path)\n",
        "else:\n",
        "    print (\"Successfully created the directory %s \" % path)\n",
        "\n",
        "os.chdir('/content')"
      ],
      "execution_count": 11,
      "outputs": [
        {
          "output_type": "stream",
          "text": [
            "Successfully created the directory /content/actuall \n"
          ],
          "name": "stdout"
        }
      ]
    },
    {
      "cell_type": "code",
      "metadata": {
        "id": "Ts18emSiXcbZ"
      },
      "source": [
        "import requests\n",
        "def download_image(place_t):\n",
        "  os.chdir('/content/actuall')\n",
        "  with open(place_t+'.jpg', 'wb') as handle:\n",
        "        response = requests.get('http://kamery.lwq.cz/jpg/'+place_t+'.jpg', stream=True)\n",
        "        if not response.ok:\n",
        "            return 'Chyba'\n",
        "        for block in response.iter_content(1024):\n",
        "            if not block:\n",
        "                break\n",
        "            handle.write(block)"
      ],
      "execution_count": 12,
      "outputs": []
    },
    {
      "cell_type": "code",
      "metadata": {
        "id": "Q3_52F3-XgiY"
      },
      "source": [
        "from PIL import Image\n",
        "\n",
        "#device = torch.device(\"cuda\")\n",
        "\n",
        "def classify_traffic_place(model, place):\n",
        "  place=int(place)\n",
        "  if place == 0:\n",
        "    place_t = 'barton-vysokov'\n",
        "  elif place == 1:\n",
        "    place_t = 'barton-centrum'\n",
        "  elif place == 2:\n",
        "    place_t = 'barton'\n",
        "  elif place == 3:\n",
        "    place_t = 'slavia'\n",
        "  elif place == 4:\n",
        "    place_t = 'italie'\n",
        "  elif place == 5:\n",
        "    place_t = 'polska'\n",
        "  else: return 'Chyba'\n",
        "  os.chdir('/content/actuall')\n",
        "  \"\"\"\n",
        "  if os.path.exists('/content/actuall/'+place_t+'.jpg'):\n",
        "      os.remove('/content/actuall/'+place_t+'.jpg')\n",
        " \n",
        "  download_image(place_t)\n",
        " \n",
        "  \n",
        "  img = Image.open('/content/actuall/'+place_t+'.jpg')\n",
        "\"\"\"\n",
        "  img=Image.open('/content/actuall/test.jpg')\n",
        "\n",
        "  transform_image = transforms.Compose([\n",
        "                                 transforms.Resize((224,224)),\n",
        "                                 transforms.ToTensor(),\n",
        "                                 transforms.Normalize([0.485, 0.456, 0.406], [0.229, 0.224, 0.225])\n",
        "  ])\n",
        "\n",
        "  img_t = transform_image(img)\n",
        "  batch_t = torch.unsqueeze(img_t, 0)\n",
        "\n",
        "\n",
        "  #device = torch.device(\"cuda\")\n",
        "  model.eval()\n",
        "  #batch_t = batch_t.to(device)\n",
        "  out = model(batch_t)\n",
        "  print(\"--------out------\")\n",
        "  print(out)\n",
        "\n",
        "  _, classifs = torch.max(out, 1)\n",
        "  print(_, classifs)\n",
        "  return class_names[classifs]\n",
        "  #model.to(device)"
      ],
      "execution_count": 13,
      "outputs": []
    },
    {
      "cell_type": "markdown",
      "metadata": {
        "id": "G97Qb1C7vpKq"
      },
      "source": [
        "## Flask & Ngrok\n"
      ]
    },
    {
      "cell_type": "code",
      "metadata": {
        "colab": {
          "base_uri": "https://localhost:8080/"
        },
        "id": "Pg0VpLOzXuhW",
        "outputId": "bdf30a30-86e4-4b18-d08c-e0ab4ccef960"
      },
      "source": [
        "from flask_ngrok import run_with_ngrok\n",
        "from flask import Flask, request, jsonify\n",
        "app = Flask(__name__)\n",
        "run_with_ngrok(app)   #starts ngrok when the app is run.\n",
        "@app.route('/predict/<id>/', methods=['POST', 'GET'])\n",
        "def predict(id):\n",
        "\n",
        "    return jsonify([{\"pred\": classify_traffic_place(model, id)}])\n",
        " \n",
        "app.run()"
      ],
      "execution_count": null,
      "outputs": [
        {
          "output_type": "stream",
          "text": [
            " * Serving Flask app \"__main__\" (lazy loading)\n",
            " * Environment: production\n",
            "\u001b[31m   WARNING: This is a development server. Do not use it in a production deployment.\u001b[0m\n",
            "\u001b[2m   Use a production WSGI server instead.\u001b[0m\n",
            " * Debug mode: off\n"
          ],
          "name": "stdout"
        },
        {
          "output_type": "stream",
          "text": [
            " * Running on http://127.0.0.1:5000/ (Press CTRL+C to quit)\n"
          ],
          "name": "stderr"
        },
        {
          "output_type": "stream",
          "text": [
            " * Running on http://58ec9966a294.ngrok.io\n",
            " * Traffic stats available on http://127.0.0.1:4040\n"
          ],
          "name": "stdout"
        }
      ]
    },
    {
      "cell_type": "markdown",
      "metadata": {
        "id": "dFJRRMRAvwon"
      },
      "source": [
        "## Jiné"
      ]
    },
    {
      "cell_type": "code",
      "metadata": {
        "colab": {
          "base_uri": "https://localhost:8080/"
        },
        "id": "TdlZJKeJXodZ",
        "outputId": "ecb733cf-e16a-4c93-ecca-0e22d4ffa34b"
      },
      "source": [
        "#vlastní tesovací metoda\n",
        "\n",
        "id=1\n",
        "print(classify_traffic_place(model, id))\n"
      ],
      "execution_count": null,
      "outputs": [
        {
          "output_type": "stream",
          "text": [
            "--------out------\n",
            "tensor([[-17.5986,  -1.3307,   1.5738]], grad_fn=<AddmmBackward>)\n",
            "tensor([1.5738], grad_fn=<MaxBackward0>) tensor([2])\n",
            "traffic\n"
          ],
          "name": "stdout"
        }
      ]
    },
    {
      "cell_type": "markdown",
      "metadata": {
        "id": "AWjpaRVcVNre"
      },
      "source": [
        "## Testy\r\n"
      ]
    },
    {
      "cell_type": "code",
      "metadata": {
        "id": "sDv2aYKpWzad"
      },
      "source": [
        "fid = drive.ListFile({'q':\"title='testdata.zip'\"}).GetList()[0]['id']\r\n",
        "f = drive.CreateFile({'id': fid})\r\n",
        "f.GetContentFile('testdata.zip')"
      ],
      "execution_count": 14,
      "outputs": []
    },
    {
      "cell_type": "code",
      "metadata": {
        "id": "LCfNwbArW24z"
      },
      "source": [
        "import zipfile\r\n",
        "\r\n",
        "with zipfile.ZipFile(\"testdata.zip\", 'r') as zip_ref:  #with pro otevreni i zavreni souboru\r\n",
        "  zip_ref.extractall()"
      ],
      "execution_count": 15,
      "outputs": []
    },
    {
      "cell_type": "code",
      "metadata": {
        "colab": {
          "base_uri": "https://localhost:8080/"
        },
        "id": "wlwRStInJPXO",
        "outputId": "9f048bbe-8279-442d-89b5-3582618e27b8"
      },
      "source": [
        "DIR = '/content/testdata/no_traffic/'\r\n",
        "print(len([name for name in os.listdir(DIR) if os.path.isfile(os.path.join(DIR, name))]))"
      ],
      "execution_count": 23,
      "outputs": [
        {
          "output_type": "stream",
          "text": [
            "2019\n"
          ],
          "name": "stdout"
        }
      ]
    },
    {
      "cell_type": "markdown",
      "metadata": {
        "id": "_RM-MtJMYKj6"
      },
      "source": [
        "No_traffic test\r\n"
      ]
    },
    {
      "cell_type": "code",
      "metadata": {
        "colab": {
          "base_uri": "https://localhost:8080/"
        },
        "id": "pX38GyMhViIa",
        "outputId": "f00b0584-ddfc-438d-bcfd-2a6279720db2"
      },
      "source": [
        "i = 0\r\n",
        "DIR = '/content/testdata/no_traffic/'\r\n",
        "all = len([name for name in os.listdir(DIR) if os.path.isfile(os.path.join(DIR, name))])\r\n",
        "for filename in os.listdir('testdata/no_traffic'): \r\n",
        " \r\n",
        "  img=Image.open('/content/testdata/no_traffic/'+filename)\r\n",
        "\r\n",
        "  transform_image = transforms.Compose([\r\n",
        "                                 transforms.Resize((224,224)),\r\n",
        "                                 transforms.ToTensor(),\r\n",
        "                                 transforms.Normalize([0.485, 0.456, 0.406], [0.229, 0.224, 0.225])\r\n",
        "  ])\r\n",
        "\r\n",
        "  img_t = transform_image(img)\r\n",
        "  batch_t = torch.unsqueeze(img_t, 0)\r\n",
        "\r\n",
        "\r\n",
        "  #device = torch.device(\"cuda\")\r\n",
        "  model.eval()\r\n",
        "  #batch_t = batch_t.to(device)\r\n",
        "  out = model(batch_t)\r\n",
        "  _, classifs = torch.max(out, 1)\r\n",
        "  #print(class_names[classifs])\r\n",
        "  if class_names[classifs] != \"no_traffic\":\r\n",
        "    i=i+1\r\n",
        "    print(filename)\r\n",
        "  #model.to(device)\r\n",
        "print(all)\r\n",
        "print(i)"
      ],
      "execution_count": 18,
      "outputs": [
        {
          "output_type": "stream",
          "text": [
            "bar_z_c_14_12_12_13_27.jpg\n",
            "bar_z_c_16_12_11_28_17.jpg\n",
            "polska_16_12_09_21_52.jpg\n",
            "italie_16_12_11_02_59.jpg\n",
            "polska_15_12_09_59_47.jpg\n",
            "praz_z_c_14_12_13_28_00.jpg\n",
            "praz_z_c_15_12_09_54_45.jpg\n",
            "bar_z_c_14_12_13_43_08.jpg\n",
            "bar_z_c_15_12_08_43_57.jpg\n",
            "bar_z_c_14_12_16_39_55.jpg\n",
            "bar_z_c_15_12_09_59_47.jpg\n",
            "praz_d_c_16_12_10_32_41.jpg\n",
            "bar_z_c_15_12_13_42_12.jpg\n",
            "polska_14_12_14_43_45.jpg\n",
            "bar_d_c_15_12_08_33_51.jpg\n",
            "praz_d_c_16_12_09_06_41.jpg\n",
            "polska_16_12_10_17_30.jpg\n",
            "praz_z_c_16_12_11_28_18.jpg\n",
            "polska_16_12_12_49_16.jpg\n",
            "bar_z_c_15_12_08_38_55.jpg\n",
            "polska_15_12_07_53_27.jpg\n",
            "praz_z_c_16_12_09_06_42.jpg\n",
            "bar_z_c_16_12_13_34_46.jpg\n",
            "bar_z_c_14_12_13_22_55.jpg\n",
            "bar_z_c_15_12_10_35_11.jpg\n",
            "bar_d_c_16_12_11_58_41.jpg\n",
            "polska_15_12_09_29_29.jpg\n",
            "bar_z_c_15_12_13_16_57.jpg\n",
            "polska_15_12_11_30_48.jpg\n",
            "praz_z_c_15_12_11_05_31.jpg\n",
            "polska_16_12_10_52_54.jpg\n",
            "polska_15_12_13_32_06.jpg\n",
            "polska_15_12_16_04_16.jpg\n",
            "bar_d_c_16_12_10_02_20.jpg\n",
            "italie_16_12_09_21_50.jpg\n",
            "bar_d_c_16_12_07_50_48.jpg\n",
            "praz_d_c_14_12_15_59_33.jpg\n",
            "praz_z_c_15_12_12_51_44.jpg\n",
            "italie_16_12_16_36_46.jpg\n",
            "bar_d_c_16_12_13_19_33.jpg\n",
            "praz_z_c_14_12_12_57_41.jpg\n",
            "bar_z_c_15_12_08_23_44.jpg\n",
            "bar_z_c_14_12_16_50_01.jpg\n",
            "praz_z_c_14_12_15_59_33.jpg\n",
            "praz_z_c_15_12_13_52_25.jpg\n",
            "praz_d_c_16_12_13_19_35.jpg\n",
            "polska_15_12_14_42_57.jpg\n",
            "bar_z_c_14_12_13_48_11.jpg\n",
            "bar_d_c_15_12_08_43_57.jpg\n",
            "praz_z_c_15_12_13_57_28.jpg\n",
            "praz_d_c_15_12_09_54_44.jpg\n",
            "praz_d_c_15_12_11_40_56.jpg\n",
            "bar_d_c_14_12_16_50_01.jpg\n",
            "praz_z_c_14_12_13_33_03.jpg\n",
            "bar_d_c_14_12_14_13_27.jpg\n",
            "italie_16_12_08_16_03.jpg\n",
            "bar_z_c_15_12_07_07_57.jpg\n",
            "polska_14_12_13_48_12.jpg\n",
            "polska_15_12_14_32_50.jpg\n",
            "praz_d_c_16_12_13_39_52.jpg\n",
            "bar_z_c_15_12_09_04_11.jpg\n",
            "bar_z_c_15_12_13_52_24.jpg\n",
            "italie_16_12_18_22_56.jpg\n",
            "bar_z_c_14_12_12_28_42.jpg\n",
            "praz_d_c_14_12_12_08_20.jpg\n",
            "polska_15_12_10_15_00.jpg\n",
            "italie_16_12_11_28_15.jpg\n",
            "bar_z_c_15_12_09_54_43.jpg\n",
            "praz_z_c_16_12_10_57_59.jpg\n",
            "bar_d_c_14_12_16_34_52.jpg\n",
            "bar_z_c_14_12_13_02_43.jpg\n",
            "bar_z_c_15_12_07_23_06.jpg\n",
            "praz_z_c_14_12_13_22_57.jpg\n",
            "praz_d_c_15_12_08_38_56.jpg\n",
            "italie_14_12_16_39_55.jpg\n",
            "bar_z_c_15_12_08_33_52.jpg\n",
            "italie_14_12_13_38_04.jpg\n",
            "polska_15_12_12_51_43.jpg\n",
            "bar_z_c_14_12_11_22_44.jpg\n",
            "praz_z_c_14_12_13_38_06.jpg\n",
            "bar_z_c_16_12_18_22_57.jpg\n",
            "polska_15_12_10_09_56.jpg\n",
            "polska_15_12_11_46_00.jpg\n",
            "bar_z_c_15_12_10_25_05.jpg\n",
            "polska_14_12_13_53_14.jpg\n",
            "bar_z_c_15_12_09_34_31.jpg\n",
            "polska_16_12_07_45_46.jpg\n",
            "praz_d_c_14_12_13_07_47.jpg\n",
            "praz_z_c_16_12_10_32_41.jpg\n",
            "bar_z_c_15_12_12_06_15.jpg\n",
            "polska_15_12_11_56_06.jpg\n",
            "bar_d_c_16_12_08_41_22.jpg\n",
            "bar_d_c_16_12_13_09_27.jpg\n",
            "italie_15_12_16_24_25.jpg\n",
            "praz_z_c_16_12_13_44_57.jpg\n",
            "praz_z_c_15_12_10_15_01.jpg\n",
            "italie_16_12_10_17_29.jpg\n",
            "polska_16_12_13_39_51.jpg\n",
            "polska_15_12_12_36_34.jpg\n",
            "bar_z_c_15_12_11_35_50.jpg\n",
            "polska_15_12_15_18_51.jpg\n",
            "bar_z_c_14_12_13_27_59.jpg\n",
            "polska_14_12_14_08_25.jpg\n",
            "italie_14_12_16_09_37.jpg\n",
            "italie_16_12_17_37_28.jpg\n",
            "praz_z_c_15_12_12_01_13.jpg\n",
            "bar_d_c_15_12_10_09_54.jpg\n",
            "praz_z_c_14_12_13_17_54.jpg\n",
            "praz_z_c_14_12_12_35_22.jpg\n",
            "polska_15_12_13_22_00.jpg\n",
            "polska_15_12_12_21_24.jpg\n",
            "praz_z_c_16_12_06_55_16.jpg\n",
            "polska_15_12_15_59_13.jpg\n",
            "bar_d_c_15_12_08_03_32.jpg\n",
            "praz_z_c_15_12_10_09_58.jpg\n",
            "polska_15_12_12_16_21.jpg\n",
            "bar_d_c_15_12_09_14_18.jpg\n",
            "polska_15_12_13_27_03.jpg\n",
            "praz_z_c_14_12_11_32_53.jpg\n",
            "praz_z_c_14_12_13_43_09.jpg\n",
            "praz_z_c_15_12_12_06_16.jpg\n",
            "bar_d_c_15_12_12_06_14.jpg\n",
            "0\n",
            "122\n"
          ],
          "name": "stdout"
        }
      ]
    },
    {
      "cell_type": "markdown",
      "metadata": {
        "id": "wshjTzSPYNV8"
      },
      "source": [
        "Traffic test"
      ]
    },
    {
      "cell_type": "code",
      "metadata": {
        "id": "LIvUROL2YAHE",
        "colab": {
          "base_uri": "https://localhost:8080/"
        },
        "outputId": "33e74b40-37ef-4790-c2ad-1ab450581c58"
      },
      "source": [
        "i=0\r\n",
        "DIR = '/content/testdata/traffic/'\r\n",
        "all = len([name for name in os.listdir(DIR) if os.path.isfile(os.path.join(DIR, name))])\r\n",
        "for filename in os.listdir('testdata/traffic'): \r\n",
        " \r\n",
        "  img=Image.open('/content/testdata/traffic/'+filename)\r\n",
        "\r\n",
        "  transform_image = transforms.Compose([\r\n",
        "                                 transforms.Resize((224,224)),\r\n",
        "                                 transforms.ToTensor(),\r\n",
        "                                 transforms.Normalize([0.485, 0.456, 0.406], [0.229, 0.224, 0.225])\r\n",
        "  ])\r\n",
        "\r\n",
        "  img_t = transform_image(img)\r\n",
        "  batch_t = torch.unsqueeze(img_t, 0)\r\n",
        "\r\n",
        "\r\n",
        "  #device = torch.device(\"cuda\")\r\n",
        "  model.eval()\r\n",
        "  #batch_t = batch_t.to(device)\r\n",
        "  out = model(batch_t)\r\n",
        "  _, classifs = torch.max(out, 1)\r\n",
        "  #print(class_names[classifs])\r\n",
        "  if class_names[classifs] != \"traffic\":\r\n",
        "    i=i+1\r\n",
        "    print(filename)\r\n",
        "  #model.to(device)\r\n",
        "print(all)\r\n",
        "print(i)"
      ],
      "execution_count": 24,
      "outputs": [
        {
          "output_type": "stream",
          "text": [
            "italie_16_12_07_35_39.jpg\n",
            "praz_z_c_16_12_18_02_46.jpg\n",
            "praz_d_c_16_12_16_31_45.jpg\n",
            "polska_14_12_15_09_02.jpg\n",
            "italie_15_12_07_33_10.jpg\n",
            "italie_16_12_11_18_09.jpg\n",
            "italie_16_12_14_20_16.jpg\n",
            "polska_15_12_10_50_21.jpg\n",
            "polska_16_12_10_47_50.jpg\n",
            "polska_14_12_14_53_52.jpg\n",
            "bar_z_c_15_12_12_36_34.jpg\n",
            "praz_z_c_15_12_16_19_25.jpg\n",
            "italie_16_12_07_15_27.jpg\n",
            "italie_15_12_14_22_41.jpg\n",
            "italie_14_12_11_42_56.jpg\n",
            "polska_14_12_16_09_38.jpg\n",
            "bar_d_c_16_12_13_04_24.jpg\n",
            "italie_16_12_08_36_17.jpg\n",
            "polska_15_12_13_16_57.jpg\n",
            "praz_z_c_16_12_17_37_31.jpg\n",
            "bar_z_c_16_12_13_55_01.jpg\n",
            "italie_15_12_15_23_52.jpg\n",
            "polska_16_12_10_02_21.jpg\n",
            "praz_d_c_15_12_08_03_33.jpg\n",
            "bar_d_c_14_12_14_23_33.jpg\n",
            "italie_15_12_13_42_10.jpg\n",
            "polska_16_12_12_23_59.jpg\n",
            "praz_z_c_16_12_16_26_43.jpg\n",
            "polska_15_12_11_35_51.jpg\n",
            "praz_d_c_16_12_17_02_09.jpg\n",
            "polska_16_12_15_15_55.jpg\n",
            "italie_14_12_16_55_03.jpg\n",
            "polska_14_12_16_24_47.jpg\n",
            "polska_16_12_15_31_04.jpg\n",
            "bar_d_c_16_12_09_11_43.jpg\n",
            "italie_16_12_09_01_36.jpg\n",
            "italie_15_12_06_27_29.jpg\n",
            "praz_z_c_16_12_16_36_49.jpg\n",
            "bar_d_c_14_12_15_49_25.jpg\n",
            "polska_16_12_14_30_25.jpg\n",
            "praz_d_c_15_12_16_14_21.jpg\n",
            "italie_14_12_14_23_33.jpg\n",
            "bar_z_c_16_12_09_31_58.jpg\n",
            "bar_z_c_15_12_13_32_06.jpg\n",
            "italie_16_12_14_55_41.jpg\n",
            "italie_16_12_16_51_57.jpg\n",
            "praz_z_c_14_12_15_14_06.jpg\n",
            "italie_15_12_15_18_48.jpg\n",
            "praz_d_c_16_12_18_02_46.jpg\n",
            "italie_16_12_08_51_29.jpg\n",
            "italie_15_12_15_44_03.jpg\n",
            "italie_15_12_06_52_46.jpg\n",
            "praz_d_c_15_12_10_50_22.jpg\n",
            "praz_z_c_16_12_14_55_44.jpg\n",
            "praz_d_c_14_12_16_50_02.jpg\n",
            "praz_d_c_16_12_16_36_48.jpg\n",
            "praz_d_c_15_12_10_25_06.jpg\n",
            "bar_d_c_16_12_17_17_17.jpg\n",
            "italie_16_12_08_46_26.jpg\n",
            "italie_16_12_07_40_42.jpg\n",
            "praz_d_c_16_12_16_52_00.jpg\n",
            "italie_16_12_11_43_27.jpg\n",
            "italie_16_12_12_29_01.jpg\n",
            "praz_z_c_16_12_17_27_25.jpg\n",
            "praz_d_c_16_12_16_57_04.jpg\n",
            "italie_14_12_13_02_42.jpg\n",
            "italie_15_12_12_46_38.jpg\n",
            "italie_15_12_09_59_45.jpg\n",
            "italie_14_12_14_08_24.jpg\n",
            "931\n",
            "69\n"
          ],
          "name": "stdout"
        }
      ]
    },
    {
      "cell_type": "markdown",
      "metadata": {
        "id": "SvK4ocr2YPBi"
      },
      "source": [
        "Error test"
      ]
    },
    {
      "cell_type": "code",
      "metadata": {
        "id": "-fL1B6hqYFXO",
        "colab": {
          "base_uri": "https://localhost:8080/"
        },
        "outputId": "20c45875-4991-413f-fe9b-8f4f0cf905d4"
      },
      "source": [
        "i=0\r\n",
        "DIR = '/content/testdata/error/'\r\n",
        "all = len([name for name in os.listdir(DIR) if os.path.isfile(os.path.join(DIR, name))])\r\n",
        "for filename in os.listdir('testdata/error'): \r\n",
        " \r\n",
        "  img=Image.open('/content/testdata/error/'+filename)\r\n",
        "\r\n",
        "  transform_image = transforms.Compose([\r\n",
        "                                 transforms.Resize((224,224)),\r\n",
        "                                 transforms.ToTensor(),\r\n",
        "                                 transforms.Normalize([0.485, 0.456, 0.406], [0.229, 0.224, 0.225])\r\n",
        "  ])\r\n",
        "\r\n",
        "  img_t = transform_image(img)\r\n",
        "  batch_t = torch.unsqueeze(img_t, 0)\r\n",
        "\r\n",
        "\r\n",
        "  #device = torch.device(\"cuda\")\r\n",
        "  model.eval()\r\n",
        "  #batch_t = batch_t.to(device)\r\n",
        "  out = model(batch_t)\r\n",
        "  _, classifs = torch.max(out, 1)\r\n",
        "  #print(class_names[classifs])\r\n",
        "  if class_names[classifs] != \"error\":\r\n",
        "    print(filename)\r\n",
        "    i=i+1\r\n",
        "  #model.to(device)\r\n",
        "print(all)\r\n",
        "print(i)"
      ],
      "execution_count": 25,
      "outputs": [
        {
          "output_type": "stream",
          "text": [
            "1\n",
            "0\n"
          ],
          "name": "stdout"
        }
      ]
    }
  ]
}